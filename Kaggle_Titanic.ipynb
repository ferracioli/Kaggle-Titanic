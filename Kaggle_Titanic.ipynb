{
  "nbformat": 4,
  "nbformat_minor": 0,
  "metadata": {
    "colab": {
      "name": "Kaggle Titanic.ipynb",
      "provenance": []
    },
    "kernelspec": {
      "name": "python3",
      "display_name": "Python 3"
    },
    "language_info": {
      "name": "python"
    }
  },
  "cells": [
    {
      "cell_type": "markdown",
      "source": [
        "## Imports iniciais"
      ],
      "metadata": {
        "id": "gRSxqHJ3U7b8"
      }
    },
    {
      "cell_type": "code",
      "execution_count": null,
      "metadata": {
        "id": "qa5YzKrlQLyx"
      },
      "outputs": [],
      "source": [
        "# https://www.kaggle.com/c/titanic\n",
        "import pandas as pd\n",
        "\n",
        "import seaborn as sns\n",
        "import numpy as np\n",
        "from matplotlib import pyplot as plt\n",
        "\n",
        "import sklearn\n",
        "import sklearn.model_selection\n",
        "from sklearn.model_selection import train_test_split\n",
        "from sklearn.metrics import accuracy_score\n",
        "from sklearn import preprocessing\n",
        "from sklearn.model_selection import KFold\n",
        "\n",
        "# Algoritmos de aprendizados\n",
        "from sklearn import tree\n",
        "\n",
        "from sklearn.neighbors import KNeighborsClassifier\n",
        "from xgboost import XGBClassifier\n",
        "from sklearn.ensemble import RandomForestClassifier\n",
        "from sklearn import svm\n",
        "from sklearn.svm import SVC\n",
        "from sklearn.naive_bayes import GaussianNB\n",
        "from sklearn.ensemble import AdaBoostClassifier\n",
        "from sklearn.linear_model import LogisticRegression\n",
        "from sklearn.tree import DecisionTreeClassifier\n",
        "\n",
        "from sklearn.model_selection import cross_val_score"
      ]
    },
    {
      "cell_type": "markdown",
      "source": [
        "# Análise exploratória"
      ],
      "metadata": {
        "id": "yPjn378OT42d"
      }
    },
    {
      "cell_type": "code",
      "source": [
        "data = pd.read_csv('train.csv')\n",
        "test_data = pd.read_csv('test.csv')\n",
        "data.head() # Conhecendo na prática as colunas"
      ],
      "metadata": {
        "colab": {
          "base_uri": "https://localhost:8080/",
          "height": 206
        },
        "id": "KxND5HYIQu2E",
        "outputId": "0b08f429-926a-432d-da8a-1f762069005b"
      },
      "execution_count": null,
      "outputs": [
        {
          "output_type": "execute_result",
          "data": {
            "text/plain": [
              "   PassengerId  Survived  Pclass  \\\n",
              "0            1         0       3   \n",
              "1            2         1       1   \n",
              "2            3         1       3   \n",
              "3            4         1       1   \n",
              "4            5         0       3   \n",
              "\n",
              "                                                Name     Sex   Age  SibSp  \\\n",
              "0                            Braund, Mr. Owen Harris    male  22.0      1   \n",
              "1  Cumings, Mrs. John Bradley (Florence Briggs Th...  female  38.0      1   \n",
              "2                             Heikkinen, Miss. Laina  female  26.0      0   \n",
              "3       Futrelle, Mrs. Jacques Heath (Lily May Peel)  female  35.0      1   \n",
              "4                           Allen, Mr. William Henry    male  35.0      0   \n",
              "\n",
              "   Parch            Ticket     Fare Cabin Embarked  \n",
              "0      0         A/5 21171   7.2500   NaN        S  \n",
              "1      0          PC 17599  71.2833   C85        C  \n",
              "2      0  STON/O2. 3101282   7.9250   NaN        S  \n",
              "3      0            113803  53.1000  C123        S  \n",
              "4      0            373450   8.0500   NaN        S  "
            ],
            "text/html": [
              "\n",
              "  <div id=\"df-c9ce290a-4367-44d4-b1c2-502be311b15e\">\n",
              "    <div class=\"colab-df-container\">\n",
              "      <div>\n",
              "<style scoped>\n",
              "    .dataframe tbody tr th:only-of-type {\n",
              "        vertical-align: middle;\n",
              "    }\n",
              "\n",
              "    .dataframe tbody tr th {\n",
              "        vertical-align: top;\n",
              "    }\n",
              "\n",
              "    .dataframe thead th {\n",
              "        text-align: right;\n",
              "    }\n",
              "</style>\n",
              "<table border=\"1\" class=\"dataframe\">\n",
              "  <thead>\n",
              "    <tr style=\"text-align: right;\">\n",
              "      <th></th>\n",
              "      <th>PassengerId</th>\n",
              "      <th>Survived</th>\n",
              "      <th>Pclass</th>\n",
              "      <th>Name</th>\n",
              "      <th>Sex</th>\n",
              "      <th>Age</th>\n",
              "      <th>SibSp</th>\n",
              "      <th>Parch</th>\n",
              "      <th>Ticket</th>\n",
              "      <th>Fare</th>\n",
              "      <th>Cabin</th>\n",
              "      <th>Embarked</th>\n",
              "    </tr>\n",
              "  </thead>\n",
              "  <tbody>\n",
              "    <tr>\n",
              "      <th>0</th>\n",
              "      <td>1</td>\n",
              "      <td>0</td>\n",
              "      <td>3</td>\n",
              "      <td>Braund, Mr. Owen Harris</td>\n",
              "      <td>male</td>\n",
              "      <td>22.0</td>\n",
              "      <td>1</td>\n",
              "      <td>0</td>\n",
              "      <td>A/5 21171</td>\n",
              "      <td>7.2500</td>\n",
              "      <td>NaN</td>\n",
              "      <td>S</td>\n",
              "    </tr>\n",
              "    <tr>\n",
              "      <th>1</th>\n",
              "      <td>2</td>\n",
              "      <td>1</td>\n",
              "      <td>1</td>\n",
              "      <td>Cumings, Mrs. John Bradley (Florence Briggs Th...</td>\n",
              "      <td>female</td>\n",
              "      <td>38.0</td>\n",
              "      <td>1</td>\n",
              "      <td>0</td>\n",
              "      <td>PC 17599</td>\n",
              "      <td>71.2833</td>\n",
              "      <td>C85</td>\n",
              "      <td>C</td>\n",
              "    </tr>\n",
              "    <tr>\n",
              "      <th>2</th>\n",
              "      <td>3</td>\n",
              "      <td>1</td>\n",
              "      <td>3</td>\n",
              "      <td>Heikkinen, Miss. Laina</td>\n",
              "      <td>female</td>\n",
              "      <td>26.0</td>\n",
              "      <td>0</td>\n",
              "      <td>0</td>\n",
              "      <td>STON/O2. 3101282</td>\n",
              "      <td>7.9250</td>\n",
              "      <td>NaN</td>\n",
              "      <td>S</td>\n",
              "    </tr>\n",
              "    <tr>\n",
              "      <th>3</th>\n",
              "      <td>4</td>\n",
              "      <td>1</td>\n",
              "      <td>1</td>\n",
              "      <td>Futrelle, Mrs. Jacques Heath (Lily May Peel)</td>\n",
              "      <td>female</td>\n",
              "      <td>35.0</td>\n",
              "      <td>1</td>\n",
              "      <td>0</td>\n",
              "      <td>113803</td>\n",
              "      <td>53.1000</td>\n",
              "      <td>C123</td>\n",
              "      <td>S</td>\n",
              "    </tr>\n",
              "    <tr>\n",
              "      <th>4</th>\n",
              "      <td>5</td>\n",
              "      <td>0</td>\n",
              "      <td>3</td>\n",
              "      <td>Allen, Mr. William Henry</td>\n",
              "      <td>male</td>\n",
              "      <td>35.0</td>\n",
              "      <td>0</td>\n",
              "      <td>0</td>\n",
              "      <td>373450</td>\n",
              "      <td>8.0500</td>\n",
              "      <td>NaN</td>\n",
              "      <td>S</td>\n",
              "    </tr>\n",
              "  </tbody>\n",
              "</table>\n",
              "</div>\n",
              "      <button class=\"colab-df-convert\" onclick=\"convertToInteractive('df-c9ce290a-4367-44d4-b1c2-502be311b15e')\"\n",
              "              title=\"Convert this dataframe to an interactive table.\"\n",
              "              style=\"display:none;\">\n",
              "        \n",
              "  <svg xmlns=\"http://www.w3.org/2000/svg\" height=\"24px\"viewBox=\"0 0 24 24\"\n",
              "       width=\"24px\">\n",
              "    <path d=\"M0 0h24v24H0V0z\" fill=\"none\"/>\n",
              "    <path d=\"M18.56 5.44l.94 2.06.94-2.06 2.06-.94-2.06-.94-.94-2.06-.94 2.06-2.06.94zm-11 1L8.5 8.5l.94-2.06 2.06-.94-2.06-.94L8.5 2.5l-.94 2.06-2.06.94zm10 10l.94 2.06.94-2.06 2.06-.94-2.06-.94-.94-2.06-.94 2.06-2.06.94z\"/><path d=\"M17.41 7.96l-1.37-1.37c-.4-.4-.92-.59-1.43-.59-.52 0-1.04.2-1.43.59L10.3 9.45l-7.72 7.72c-.78.78-.78 2.05 0 2.83L4 21.41c.39.39.9.59 1.41.59.51 0 1.02-.2 1.41-.59l7.78-7.78 2.81-2.81c.8-.78.8-2.07 0-2.86zM5.41 20L4 18.59l7.72-7.72 1.47 1.35L5.41 20z\"/>\n",
              "  </svg>\n",
              "      </button>\n",
              "      \n",
              "  <style>\n",
              "    .colab-df-container {\n",
              "      display:flex;\n",
              "      flex-wrap:wrap;\n",
              "      gap: 12px;\n",
              "    }\n",
              "\n",
              "    .colab-df-convert {\n",
              "      background-color: #E8F0FE;\n",
              "      border: none;\n",
              "      border-radius: 50%;\n",
              "      cursor: pointer;\n",
              "      display: none;\n",
              "      fill: #1967D2;\n",
              "      height: 32px;\n",
              "      padding: 0 0 0 0;\n",
              "      width: 32px;\n",
              "    }\n",
              "\n",
              "    .colab-df-convert:hover {\n",
              "      background-color: #E2EBFA;\n",
              "      box-shadow: 0px 1px 2px rgba(60, 64, 67, 0.3), 0px 1px 3px 1px rgba(60, 64, 67, 0.15);\n",
              "      fill: #174EA6;\n",
              "    }\n",
              "\n",
              "    [theme=dark] .colab-df-convert {\n",
              "      background-color: #3B4455;\n",
              "      fill: #D2E3FC;\n",
              "    }\n",
              "\n",
              "    [theme=dark] .colab-df-convert:hover {\n",
              "      background-color: #434B5C;\n",
              "      box-shadow: 0px 1px 3px 1px rgba(0, 0, 0, 0.15);\n",
              "      filter: drop-shadow(0px 1px 2px rgba(0, 0, 0, 0.3));\n",
              "      fill: #FFFFFF;\n",
              "    }\n",
              "  </style>\n",
              "\n",
              "      <script>\n",
              "        const buttonEl =\n",
              "          document.querySelector('#df-c9ce290a-4367-44d4-b1c2-502be311b15e button.colab-df-convert');\n",
              "        buttonEl.style.display =\n",
              "          google.colab.kernel.accessAllowed ? 'block' : 'none';\n",
              "\n",
              "        async function convertToInteractive(key) {\n",
              "          const element = document.querySelector('#df-c9ce290a-4367-44d4-b1c2-502be311b15e');\n",
              "          const dataTable =\n",
              "            await google.colab.kernel.invokeFunction('convertToInteractive',\n",
              "                                                     [key], {});\n",
              "          if (!dataTable) return;\n",
              "\n",
              "          const docLinkHtml = 'Like what you see? Visit the ' +\n",
              "            '<a target=\"_blank\" href=https://colab.research.google.com/notebooks/data_table.ipynb>data table notebook</a>'\n",
              "            + ' to learn more about interactive tables.';\n",
              "          element.innerHTML = '';\n",
              "          dataTable['output_type'] = 'display_data';\n",
              "          await google.colab.output.renderOutput(dataTable, element);\n",
              "          const docLink = document.createElement('div');\n",
              "          docLink.innerHTML = docLinkHtml;\n",
              "          element.appendChild(docLink);\n",
              "        }\n",
              "      </script>\n",
              "    </div>\n",
              "  </div>\n",
              "  "
            ]
          },
          "metadata": {},
          "execution_count": 397
        }
      ]
    },
    {
      "cell_type": "code",
      "source": [
        "data.shape"
      ],
      "metadata": {
        "colab": {
          "base_uri": "https://localhost:8080/"
        },
        "id": "wToT8roOSqFd",
        "outputId": "d515352e-d991-457f-9ab4-6f5a9244b8e8"
      },
      "execution_count": null,
      "outputs": [
        {
          "output_type": "execute_result",
          "data": {
            "text/plain": [
              "(891, 12)"
            ]
          },
          "metadata": {},
          "execution_count": 398
        }
      ]
    },
    {
      "cell_type": "code",
      "source": [
        "# Testando agrupamentos por classe e sexo\n",
        "data[['Age', 'Survived', 'Fare', 'Pclass', 'Sex']].groupby(['Pclass', 'Sex']).mean()\n",
        "\n",
        "# Temos agora a noção de qual grupo teve uma taxa maior de sobrevivência. A idade média será útil para a imputação"
      ],
      "metadata": {
        "colab": {
          "base_uri": "https://localhost:8080/",
          "height": 269
        },
        "id": "LXwDeyLOERMU",
        "outputId": "e6a502cb-4780-4d0e-bb96-62e05ff8a6c3"
      },
      "execution_count": null,
      "outputs": [
        {
          "output_type": "execute_result",
          "data": {
            "text/plain": [
              "                     Age  Survived        Fare\n",
              "Pclass Sex                                    \n",
              "1      female  34.611765  0.968085  106.125798\n",
              "       male    41.281386  0.368852   67.226127\n",
              "2      female  28.722973  0.921053   21.970121\n",
              "       male    30.740707  0.157407   19.741782\n",
              "3      female  21.750000  0.500000   16.118810\n",
              "       male    26.507589  0.135447   12.661633"
            ],
            "text/html": [
              "\n",
              "  <div id=\"df-f529acff-afdd-42ab-ad37-2a7d6d44c1d6\">\n",
              "    <div class=\"colab-df-container\">\n",
              "      <div>\n",
              "<style scoped>\n",
              "    .dataframe tbody tr th:only-of-type {\n",
              "        vertical-align: middle;\n",
              "    }\n",
              "\n",
              "    .dataframe tbody tr th {\n",
              "        vertical-align: top;\n",
              "    }\n",
              "\n",
              "    .dataframe thead th {\n",
              "        text-align: right;\n",
              "    }\n",
              "</style>\n",
              "<table border=\"1\" class=\"dataframe\">\n",
              "  <thead>\n",
              "    <tr style=\"text-align: right;\">\n",
              "      <th></th>\n",
              "      <th></th>\n",
              "      <th>Age</th>\n",
              "      <th>Survived</th>\n",
              "      <th>Fare</th>\n",
              "    </tr>\n",
              "    <tr>\n",
              "      <th>Pclass</th>\n",
              "      <th>Sex</th>\n",
              "      <th></th>\n",
              "      <th></th>\n",
              "      <th></th>\n",
              "    </tr>\n",
              "  </thead>\n",
              "  <tbody>\n",
              "    <tr>\n",
              "      <th rowspan=\"2\" valign=\"top\">1</th>\n",
              "      <th>female</th>\n",
              "      <td>34.611765</td>\n",
              "      <td>0.968085</td>\n",
              "      <td>106.125798</td>\n",
              "    </tr>\n",
              "    <tr>\n",
              "      <th>male</th>\n",
              "      <td>41.281386</td>\n",
              "      <td>0.368852</td>\n",
              "      <td>67.226127</td>\n",
              "    </tr>\n",
              "    <tr>\n",
              "      <th rowspan=\"2\" valign=\"top\">2</th>\n",
              "      <th>female</th>\n",
              "      <td>28.722973</td>\n",
              "      <td>0.921053</td>\n",
              "      <td>21.970121</td>\n",
              "    </tr>\n",
              "    <tr>\n",
              "      <th>male</th>\n",
              "      <td>30.740707</td>\n",
              "      <td>0.157407</td>\n",
              "      <td>19.741782</td>\n",
              "    </tr>\n",
              "    <tr>\n",
              "      <th rowspan=\"2\" valign=\"top\">3</th>\n",
              "      <th>female</th>\n",
              "      <td>21.750000</td>\n",
              "      <td>0.500000</td>\n",
              "      <td>16.118810</td>\n",
              "    </tr>\n",
              "    <tr>\n",
              "      <th>male</th>\n",
              "      <td>26.507589</td>\n",
              "      <td>0.135447</td>\n",
              "      <td>12.661633</td>\n",
              "    </tr>\n",
              "  </tbody>\n",
              "</table>\n",
              "</div>\n",
              "      <button class=\"colab-df-convert\" onclick=\"convertToInteractive('df-f529acff-afdd-42ab-ad37-2a7d6d44c1d6')\"\n",
              "              title=\"Convert this dataframe to an interactive table.\"\n",
              "              style=\"display:none;\">\n",
              "        \n",
              "  <svg xmlns=\"http://www.w3.org/2000/svg\" height=\"24px\"viewBox=\"0 0 24 24\"\n",
              "       width=\"24px\">\n",
              "    <path d=\"M0 0h24v24H0V0z\" fill=\"none\"/>\n",
              "    <path d=\"M18.56 5.44l.94 2.06.94-2.06 2.06-.94-2.06-.94-.94-2.06-.94 2.06-2.06.94zm-11 1L8.5 8.5l.94-2.06 2.06-.94-2.06-.94L8.5 2.5l-.94 2.06-2.06.94zm10 10l.94 2.06.94-2.06 2.06-.94-2.06-.94-.94-2.06-.94 2.06-2.06.94z\"/><path d=\"M17.41 7.96l-1.37-1.37c-.4-.4-.92-.59-1.43-.59-.52 0-1.04.2-1.43.59L10.3 9.45l-7.72 7.72c-.78.78-.78 2.05 0 2.83L4 21.41c.39.39.9.59 1.41.59.51 0 1.02-.2 1.41-.59l7.78-7.78 2.81-2.81c.8-.78.8-2.07 0-2.86zM5.41 20L4 18.59l7.72-7.72 1.47 1.35L5.41 20z\"/>\n",
              "  </svg>\n",
              "      </button>\n",
              "      \n",
              "  <style>\n",
              "    .colab-df-container {\n",
              "      display:flex;\n",
              "      flex-wrap:wrap;\n",
              "      gap: 12px;\n",
              "    }\n",
              "\n",
              "    .colab-df-convert {\n",
              "      background-color: #E8F0FE;\n",
              "      border: none;\n",
              "      border-radius: 50%;\n",
              "      cursor: pointer;\n",
              "      display: none;\n",
              "      fill: #1967D2;\n",
              "      height: 32px;\n",
              "      padding: 0 0 0 0;\n",
              "      width: 32px;\n",
              "    }\n",
              "\n",
              "    .colab-df-convert:hover {\n",
              "      background-color: #E2EBFA;\n",
              "      box-shadow: 0px 1px 2px rgba(60, 64, 67, 0.3), 0px 1px 3px 1px rgba(60, 64, 67, 0.15);\n",
              "      fill: #174EA6;\n",
              "    }\n",
              "\n",
              "    [theme=dark] .colab-df-convert {\n",
              "      background-color: #3B4455;\n",
              "      fill: #D2E3FC;\n",
              "    }\n",
              "\n",
              "    [theme=dark] .colab-df-convert:hover {\n",
              "      background-color: #434B5C;\n",
              "      box-shadow: 0px 1px 3px 1px rgba(0, 0, 0, 0.15);\n",
              "      filter: drop-shadow(0px 1px 2px rgba(0, 0, 0, 0.3));\n",
              "      fill: #FFFFFF;\n",
              "    }\n",
              "  </style>\n",
              "\n",
              "      <script>\n",
              "        const buttonEl =\n",
              "          document.querySelector('#df-f529acff-afdd-42ab-ad37-2a7d6d44c1d6 button.colab-df-convert');\n",
              "        buttonEl.style.display =\n",
              "          google.colab.kernel.accessAllowed ? 'block' : 'none';\n",
              "\n",
              "        async function convertToInteractive(key) {\n",
              "          const element = document.querySelector('#df-f529acff-afdd-42ab-ad37-2a7d6d44c1d6');\n",
              "          const dataTable =\n",
              "            await google.colab.kernel.invokeFunction('convertToInteractive',\n",
              "                                                     [key], {});\n",
              "          if (!dataTable) return;\n",
              "\n",
              "          const docLinkHtml = 'Like what you see? Visit the ' +\n",
              "            '<a target=\"_blank\" href=https://colab.research.google.com/notebooks/data_table.ipynb>data table notebook</a>'\n",
              "            + ' to learn more about interactive tables.';\n",
              "          element.innerHTML = '';\n",
              "          dataTable['output_type'] = 'display_data';\n",
              "          await google.colab.output.renderOutput(dataTable, element);\n",
              "          const docLink = document.createElement('div');\n",
              "          docLink.innerHTML = docLinkHtml;\n",
              "          element.appendChild(docLink);\n",
              "        }\n",
              "      </script>\n",
              "    </div>\n",
              "  </div>\n",
              "  "
            ]
          },
          "metadata": {},
          "execution_count": 399
        }
      ]
    },
    {
      "cell_type": "code",
      "source": [
        "# O número de ticket tem uma notação diferente, vamos investigar\n",
        "data['Ticket'].unique()[:4]\n",
        "# Com os 5 primeiros, vemos que a notação é estranha. Pode ter alguma informação importante nisso\n",
        "# Com certa análise, os prefixos possuem relação com a acomodação e a numeração ajuda a reconhecer parentes(números próximos)\n",
        "# Porém por conta da natureza qualitativa, essa coluna não será usada"
      ],
      "metadata": {
        "colab": {
          "base_uri": "https://localhost:8080/"
        },
        "id": "sEm1Wu2nR_Vq",
        "outputId": "92fca796-db54-46c0-bf87-2bea4c35d176"
      },
      "execution_count": null,
      "outputs": [
        {
          "output_type": "execute_result",
          "data": {
            "text/plain": [
              "array(['A/5 21171', 'PC 17599', 'STON/O2. 3101282', '113803'],\n",
              "      dtype=object)"
            ]
          },
          "metadata": {},
          "execution_count": 400
        }
      ]
    },
    {
      "cell_type": "code",
      "source": [
        "# Verificando nulos nas colunas\n",
        "for coluna in data:\n",
        "  print(coluna, data[coluna].isna().sum())"
      ],
      "metadata": {
        "colab": {
          "base_uri": "https://localhost:8080/"
        },
        "id": "i253fuQ3ShL2",
        "outputId": "a15529fc-1f53-4267-afa6-7de0fb469521"
      },
      "execution_count": null,
      "outputs": [
        {
          "output_type": "stream",
          "name": "stdout",
          "text": [
            "PassengerId 0\n",
            "Survived 0\n",
            "Pclass 0\n",
            "Name 0\n",
            "Sex 0\n",
            "Age 177\n",
            "SibSp 0\n",
            "Parch 0\n",
            "Ticket 0\n",
            "Fare 0\n",
            "Cabin 687\n",
            "Embarked 2\n"
          ]
        }
      ]
    },
    {
      "cell_type": "markdown",
      "source": [
        "## Arrumando valores faltantes / errôneos"
      ],
      "metadata": {
        "id": "L4rXdh5oXfXr"
      }
    },
    {
      "cell_type": "code",
      "source": [
        "# Mais de 75% dos elementos de Cabin são nulos, não compensa manter a coluna pois a imputação seria inconsistente\n",
        "data = data.drop(columns='Cabin')\n",
        "\n",
        "# ========================================\n",
        "test_data = test_data.drop(columns='Cabin') # OBS: todas as alterações serão replicadas nos dados da submissão"
      ],
      "metadata": {
        "id": "75yiad8wS5jg"
      },
      "execution_count": null,
      "outputs": []
    },
    {
      "cell_type": "code",
      "source": [
        "# A coluna de ticket não será usada por ser muito variada(a ponto da numeração quase servir como identificação por ser única)\n",
        "data = data.drop(columns='Ticket')\n",
        "test_data = test_data.drop(columns='Ticket')"
      ],
      "metadata": {
        "id": "6s5D9gbDTDY9"
      },
      "execution_count": null,
      "outputs": []
    },
    {
      "cell_type": "code",
      "source": [
        "# Embarked possui apenas dois valores nulos, vamos completá-los usando a moda\n",
        "moda = data.loc[data['Embarked'].notnull(), 'Embarked'].mode()\n",
        "print('Moda da coluna Embarked:', moda[0])\n",
        "print(data['Embarked'].unique())\n",
        "data['Embarked'] = data['Embarked'].fillna(moda[0])\n",
        "print('Elementos únicos após imputação:')\n",
        "print(data['Embarked'].unique())"
      ],
      "metadata": {
        "colab": {
          "base_uri": "https://localhost:8080/"
        },
        "id": "5H0EBbijVdpX",
        "outputId": "731502cd-771e-4960-b07d-fe242c598789"
      },
      "execution_count": null,
      "outputs": [
        {
          "output_type": "stream",
          "name": "stdout",
          "text": [
            "Moda da coluna Embarked: S\n",
            "['S' 'C' 'Q' nan]\n",
            "Elementos únicos após imputação:\n",
            "['S' 'C' 'Q']\n"
          ]
        }
      ]
    },
    {
      "cell_type": "code",
      "source": [
        "# Idade possui 177 valores nulos (20%). Pode valer a pena ainda fazer imputação\n",
        "# Vamos preencher cada valor faltante com a média de seu agrupamento(mesma classe, mesmo sexo)\n",
        "\n",
        "data['Age'] = data['Age'].fillna(data.groupby(['Pclass', 'Sex'])['Age'].transform('mean'))"
      ],
      "metadata": {
        "id": "R98nnxi3YBsF"
      },
      "execution_count": null,
      "outputs": []
    },
    {
      "cell_type": "code",
      "source": [
        "# Não há mais elementos nulos no dataframe\n",
        "for coluna in data:\n",
        "  print(coluna, data[coluna].isna().sum())"
      ],
      "metadata": {
        "colab": {
          "base_uri": "https://localhost:8080/"
        },
        "id": "vMp2zH2ZRsOH",
        "outputId": "6fe499d1-a662-4404-dbba-50eea76a4040"
      },
      "execution_count": null,
      "outputs": [
        {
          "output_type": "stream",
          "name": "stdout",
          "text": [
            "PassengerId 0\n",
            "Survived 0\n",
            "Pclass 0\n",
            "Name 0\n",
            "Sex 0\n",
            "Age 0\n",
            "SibSp 0\n",
            "Parch 0\n",
            "Fare 0\n",
            "Embarked 0\n"
          ]
        }
      ]
    },
    {
      "cell_type": "markdown",
      "source": [
        "## Testando novas features"
      ],
      "metadata": {
        "id": "aQZoiY0HXkSO"
      }
    },
    {
      "cell_type": "code",
      "source": [
        "# Verifica se há relação entre pronome de tratamento e classe social\n",
        "\n",
        "# Retorna o pronome de tratamento da pessoa ou erro se não possuir\n",
        "def obtemPronome(linha):\n",
        "  nomeSplitado = linha['Name'].split()\n",
        "  for palavra in nomeSplitado:\n",
        "    if(palavra[-1] == '.'):\n",
        "      return palavra\n",
        "\n",
        "  return 'ERRO'\n",
        "\n",
        "\n",
        "data['Pronome'] = data.apply(obtemPronome, axis=1)\n",
        "test_data['Pronome'] = test_data.apply(obtemPronome, axis=1)\n",
        "print(data['Pronome'].unique())\n",
        "\n",
        "# Já podemos apagar a coluna de nomes, pois o foco nela são os pronomes\n",
        "data = data.drop(columns='Name')\n",
        "test_data = test_data.drop(columns='Name')"
      ],
      "metadata": {
        "colab": {
          "base_uri": "https://localhost:8080/"
        },
        "id": "4Z1ySLMyfchZ",
        "outputId": "47c577e9-640e-4d7c-bb5f-134d558fa309"
      },
      "execution_count": null,
      "outputs": [
        {
          "output_type": "stream",
          "name": "stdout",
          "text": [
            "['Mr.' 'Mrs.' 'Miss.' 'Master.' 'Don.' 'Rev.' 'Dr.' 'Mme.' 'Ms.' 'Major.'\n",
            " 'Lady.' 'Sir.' 'Mlle.' 'Col.' 'Capt.' 'Countess.' 'Jonkheer.']\n"
          ]
        }
      ]
    },
    {
      "cell_type": "code",
      "source": [
        "# Convertendo a coluna sexo de string para numerico\n",
        "data['Sex'] = np.where(data['Sex'] == 'female', 1, 0)\n",
        "test_data['Sex'] = np.where(test_data['Sex'] == 'female', 1, 0)"
      ],
      "metadata": {
        "id": "M-dgKxZvhqJi"
      },
      "execution_count": null,
      "outputs": []
    },
    {
      "cell_type": "code",
      "source": [
        "data[['Pronome', 'Age', 'Fare', 'Survived', 'Pclass', 'Sex']].groupby(['Pclass', 'Pronome']).mean()"
      ],
      "metadata": {
        "colab": {
          "base_uri": "https://localhost:8080/",
          "height": 896
        },
        "id": "eJkETplADqxP",
        "outputId": "7051c447-1555-469b-d941-d47109d14e9d"
      },
      "execution_count": null,
      "outputs": [
        {
          "output_type": "execute_result",
          "data": {
            "text/plain": [
              "                        Age        Fare  Survived  Sex\n",
              "Pclass Pronome                                        \n",
              "1      Capt.      70.000000   71.000000  0.000000  0.0\n",
              "       Col.       58.000000   31.025000  0.500000  0.0\n",
              "       Countess.  33.000000   86.500000  1.000000  1.0\n",
              "       Don.       40.000000   27.720800  0.000000  0.0\n",
              "       Dr.        43.256277   63.935840  0.600000  0.2\n",
              "       Jonkheer.  38.000000    0.000000  0.000000  0.0\n",
              "       Lady.      48.000000   39.600000  1.000000  1.0\n",
              "       Major.     48.500000   28.525000  0.500000  0.0\n",
              "       Master.     5.306667  117.802767  1.000000  0.0\n",
              "       Miss.      30.100256  124.402715  0.956522  1.0\n",
              "       Mlle.      24.000000   59.402100  1.000000  1.0\n",
              "       Mme.       24.000000   69.300000  1.000000  1.0\n",
              "       Mr.        41.524558   68.034385  0.345794  0.0\n",
              "       Mrs.       39.687955   93.170636  0.976190  1.0\n",
              "       Sir.       49.000000   56.929200  1.000000  0.0\n",
              "2      Dr.        38.500000   12.250000  0.000000  0.0\n",
              "       Master.     2.258889   27.306022  1.000000  0.0\n",
              "       Miss.      22.763116   20.393750  0.941176  1.0\n",
              "       Mr.        32.567762   19.252564  0.087912  0.0\n",
              "       Mrs.       33.682927   23.496139  0.902439  1.0\n",
              "       Ms.        28.000000   13.000000  1.000000  1.0\n",
              "       Rev.       43.166667   18.312500  0.000000  0.0\n",
              "3      Master.     8.373227   28.177232  0.392857  0.0\n",
              "       Miss.      17.943627   15.248043  0.500000  1.0\n",
              "       Mr.        28.099320   11.299762  0.112853  0.0\n",
              "       Mrs.       30.994048   18.233529  0.500000  1.0"
            ],
            "text/html": [
              "\n",
              "  <div id=\"df-9047eb3a-d7fb-4ad7-b529-91be673e9fae\">\n",
              "    <div class=\"colab-df-container\">\n",
              "      <div>\n",
              "<style scoped>\n",
              "    .dataframe tbody tr th:only-of-type {\n",
              "        vertical-align: middle;\n",
              "    }\n",
              "\n",
              "    .dataframe tbody tr th {\n",
              "        vertical-align: top;\n",
              "    }\n",
              "\n",
              "    .dataframe thead th {\n",
              "        text-align: right;\n",
              "    }\n",
              "</style>\n",
              "<table border=\"1\" class=\"dataframe\">\n",
              "  <thead>\n",
              "    <tr style=\"text-align: right;\">\n",
              "      <th></th>\n",
              "      <th></th>\n",
              "      <th>Age</th>\n",
              "      <th>Fare</th>\n",
              "      <th>Survived</th>\n",
              "      <th>Sex</th>\n",
              "    </tr>\n",
              "    <tr>\n",
              "      <th>Pclass</th>\n",
              "      <th>Pronome</th>\n",
              "      <th></th>\n",
              "      <th></th>\n",
              "      <th></th>\n",
              "      <th></th>\n",
              "    </tr>\n",
              "  </thead>\n",
              "  <tbody>\n",
              "    <tr>\n",
              "      <th rowspan=\"15\" valign=\"top\">1</th>\n",
              "      <th>Capt.</th>\n",
              "      <td>70.000000</td>\n",
              "      <td>71.000000</td>\n",
              "      <td>0.000000</td>\n",
              "      <td>0.0</td>\n",
              "    </tr>\n",
              "    <tr>\n",
              "      <th>Col.</th>\n",
              "      <td>58.000000</td>\n",
              "      <td>31.025000</td>\n",
              "      <td>0.500000</td>\n",
              "      <td>0.0</td>\n",
              "    </tr>\n",
              "    <tr>\n",
              "      <th>Countess.</th>\n",
              "      <td>33.000000</td>\n",
              "      <td>86.500000</td>\n",
              "      <td>1.000000</td>\n",
              "      <td>1.0</td>\n",
              "    </tr>\n",
              "    <tr>\n",
              "      <th>Don.</th>\n",
              "      <td>40.000000</td>\n",
              "      <td>27.720800</td>\n",
              "      <td>0.000000</td>\n",
              "      <td>0.0</td>\n",
              "    </tr>\n",
              "    <tr>\n",
              "      <th>Dr.</th>\n",
              "      <td>43.256277</td>\n",
              "      <td>63.935840</td>\n",
              "      <td>0.600000</td>\n",
              "      <td>0.2</td>\n",
              "    </tr>\n",
              "    <tr>\n",
              "      <th>Jonkheer.</th>\n",
              "      <td>38.000000</td>\n",
              "      <td>0.000000</td>\n",
              "      <td>0.000000</td>\n",
              "      <td>0.0</td>\n",
              "    </tr>\n",
              "    <tr>\n",
              "      <th>Lady.</th>\n",
              "      <td>48.000000</td>\n",
              "      <td>39.600000</td>\n",
              "      <td>1.000000</td>\n",
              "      <td>1.0</td>\n",
              "    </tr>\n",
              "    <tr>\n",
              "      <th>Major.</th>\n",
              "      <td>48.500000</td>\n",
              "      <td>28.525000</td>\n",
              "      <td>0.500000</td>\n",
              "      <td>0.0</td>\n",
              "    </tr>\n",
              "    <tr>\n",
              "      <th>Master.</th>\n",
              "      <td>5.306667</td>\n",
              "      <td>117.802767</td>\n",
              "      <td>1.000000</td>\n",
              "      <td>0.0</td>\n",
              "    </tr>\n",
              "    <tr>\n",
              "      <th>Miss.</th>\n",
              "      <td>30.100256</td>\n",
              "      <td>124.402715</td>\n",
              "      <td>0.956522</td>\n",
              "      <td>1.0</td>\n",
              "    </tr>\n",
              "    <tr>\n",
              "      <th>Mlle.</th>\n",
              "      <td>24.000000</td>\n",
              "      <td>59.402100</td>\n",
              "      <td>1.000000</td>\n",
              "      <td>1.0</td>\n",
              "    </tr>\n",
              "    <tr>\n",
              "      <th>Mme.</th>\n",
              "      <td>24.000000</td>\n",
              "      <td>69.300000</td>\n",
              "      <td>1.000000</td>\n",
              "      <td>1.0</td>\n",
              "    </tr>\n",
              "    <tr>\n",
              "      <th>Mr.</th>\n",
              "      <td>41.524558</td>\n",
              "      <td>68.034385</td>\n",
              "      <td>0.345794</td>\n",
              "      <td>0.0</td>\n",
              "    </tr>\n",
              "    <tr>\n",
              "      <th>Mrs.</th>\n",
              "      <td>39.687955</td>\n",
              "      <td>93.170636</td>\n",
              "      <td>0.976190</td>\n",
              "      <td>1.0</td>\n",
              "    </tr>\n",
              "    <tr>\n",
              "      <th>Sir.</th>\n",
              "      <td>49.000000</td>\n",
              "      <td>56.929200</td>\n",
              "      <td>1.000000</td>\n",
              "      <td>0.0</td>\n",
              "    </tr>\n",
              "    <tr>\n",
              "      <th rowspan=\"7\" valign=\"top\">2</th>\n",
              "      <th>Dr.</th>\n",
              "      <td>38.500000</td>\n",
              "      <td>12.250000</td>\n",
              "      <td>0.000000</td>\n",
              "      <td>0.0</td>\n",
              "    </tr>\n",
              "    <tr>\n",
              "      <th>Master.</th>\n",
              "      <td>2.258889</td>\n",
              "      <td>27.306022</td>\n",
              "      <td>1.000000</td>\n",
              "      <td>0.0</td>\n",
              "    </tr>\n",
              "    <tr>\n",
              "      <th>Miss.</th>\n",
              "      <td>22.763116</td>\n",
              "      <td>20.393750</td>\n",
              "      <td>0.941176</td>\n",
              "      <td>1.0</td>\n",
              "    </tr>\n",
              "    <tr>\n",
              "      <th>Mr.</th>\n",
              "      <td>32.567762</td>\n",
              "      <td>19.252564</td>\n",
              "      <td>0.087912</td>\n",
              "      <td>0.0</td>\n",
              "    </tr>\n",
              "    <tr>\n",
              "      <th>Mrs.</th>\n",
              "      <td>33.682927</td>\n",
              "      <td>23.496139</td>\n",
              "      <td>0.902439</td>\n",
              "      <td>1.0</td>\n",
              "    </tr>\n",
              "    <tr>\n",
              "      <th>Ms.</th>\n",
              "      <td>28.000000</td>\n",
              "      <td>13.000000</td>\n",
              "      <td>1.000000</td>\n",
              "      <td>1.0</td>\n",
              "    </tr>\n",
              "    <tr>\n",
              "      <th>Rev.</th>\n",
              "      <td>43.166667</td>\n",
              "      <td>18.312500</td>\n",
              "      <td>0.000000</td>\n",
              "      <td>0.0</td>\n",
              "    </tr>\n",
              "    <tr>\n",
              "      <th rowspan=\"4\" valign=\"top\">3</th>\n",
              "      <th>Master.</th>\n",
              "      <td>8.373227</td>\n",
              "      <td>28.177232</td>\n",
              "      <td>0.392857</td>\n",
              "      <td>0.0</td>\n",
              "    </tr>\n",
              "    <tr>\n",
              "      <th>Miss.</th>\n",
              "      <td>17.943627</td>\n",
              "      <td>15.248043</td>\n",
              "      <td>0.500000</td>\n",
              "      <td>1.0</td>\n",
              "    </tr>\n",
              "    <tr>\n",
              "      <th>Mr.</th>\n",
              "      <td>28.099320</td>\n",
              "      <td>11.299762</td>\n",
              "      <td>0.112853</td>\n",
              "      <td>0.0</td>\n",
              "    </tr>\n",
              "    <tr>\n",
              "      <th>Mrs.</th>\n",
              "      <td>30.994048</td>\n",
              "      <td>18.233529</td>\n",
              "      <td>0.500000</td>\n",
              "      <td>1.0</td>\n",
              "    </tr>\n",
              "  </tbody>\n",
              "</table>\n",
              "</div>\n",
              "      <button class=\"colab-df-convert\" onclick=\"convertToInteractive('df-9047eb3a-d7fb-4ad7-b529-91be673e9fae')\"\n",
              "              title=\"Convert this dataframe to an interactive table.\"\n",
              "              style=\"display:none;\">\n",
              "        \n",
              "  <svg xmlns=\"http://www.w3.org/2000/svg\" height=\"24px\"viewBox=\"0 0 24 24\"\n",
              "       width=\"24px\">\n",
              "    <path d=\"M0 0h24v24H0V0z\" fill=\"none\"/>\n",
              "    <path d=\"M18.56 5.44l.94 2.06.94-2.06 2.06-.94-2.06-.94-.94-2.06-.94 2.06-2.06.94zm-11 1L8.5 8.5l.94-2.06 2.06-.94-2.06-.94L8.5 2.5l-.94 2.06-2.06.94zm10 10l.94 2.06.94-2.06 2.06-.94-2.06-.94-.94-2.06-.94 2.06-2.06.94z\"/><path d=\"M17.41 7.96l-1.37-1.37c-.4-.4-.92-.59-1.43-.59-.52 0-1.04.2-1.43.59L10.3 9.45l-7.72 7.72c-.78.78-.78 2.05 0 2.83L4 21.41c.39.39.9.59 1.41.59.51 0 1.02-.2 1.41-.59l7.78-7.78 2.81-2.81c.8-.78.8-2.07 0-2.86zM5.41 20L4 18.59l7.72-7.72 1.47 1.35L5.41 20z\"/>\n",
              "  </svg>\n",
              "      </button>\n",
              "      \n",
              "  <style>\n",
              "    .colab-df-container {\n",
              "      display:flex;\n",
              "      flex-wrap:wrap;\n",
              "      gap: 12px;\n",
              "    }\n",
              "\n",
              "    .colab-df-convert {\n",
              "      background-color: #E8F0FE;\n",
              "      border: none;\n",
              "      border-radius: 50%;\n",
              "      cursor: pointer;\n",
              "      display: none;\n",
              "      fill: #1967D2;\n",
              "      height: 32px;\n",
              "      padding: 0 0 0 0;\n",
              "      width: 32px;\n",
              "    }\n",
              "\n",
              "    .colab-df-convert:hover {\n",
              "      background-color: #E2EBFA;\n",
              "      box-shadow: 0px 1px 2px rgba(60, 64, 67, 0.3), 0px 1px 3px 1px rgba(60, 64, 67, 0.15);\n",
              "      fill: #174EA6;\n",
              "    }\n",
              "\n",
              "    [theme=dark] .colab-df-convert {\n",
              "      background-color: #3B4455;\n",
              "      fill: #D2E3FC;\n",
              "    }\n",
              "\n",
              "    [theme=dark] .colab-df-convert:hover {\n",
              "      background-color: #434B5C;\n",
              "      box-shadow: 0px 1px 3px 1px rgba(0, 0, 0, 0.15);\n",
              "      filter: drop-shadow(0px 1px 2px rgba(0, 0, 0, 0.3));\n",
              "      fill: #FFFFFF;\n",
              "    }\n",
              "  </style>\n",
              "\n",
              "      <script>\n",
              "        const buttonEl =\n",
              "          document.querySelector('#df-9047eb3a-d7fb-4ad7-b529-91be673e9fae button.colab-df-convert');\n",
              "        buttonEl.style.display =\n",
              "          google.colab.kernel.accessAllowed ? 'block' : 'none';\n",
              "\n",
              "        async function convertToInteractive(key) {\n",
              "          const element = document.querySelector('#df-9047eb3a-d7fb-4ad7-b529-91be673e9fae');\n",
              "          const dataTable =\n",
              "            await google.colab.kernel.invokeFunction('convertToInteractive',\n",
              "                                                     [key], {});\n",
              "          if (!dataTable) return;\n",
              "\n",
              "          const docLinkHtml = 'Like what you see? Visit the ' +\n",
              "            '<a target=\"_blank\" href=https://colab.research.google.com/notebooks/data_table.ipynb>data table notebook</a>'\n",
              "            + ' to learn more about interactive tables.';\n",
              "          element.innerHTML = '';\n",
              "          dataTable['output_type'] = 'display_data';\n",
              "          await google.colab.output.renderOutput(dataTable, element);\n",
              "          const docLink = document.createElement('div');\n",
              "          docLink.innerHTML = docLinkHtml;\n",
              "          element.appendChild(docLink);\n",
              "        }\n",
              "      </script>\n",
              "    </div>\n",
              "  </div>\n",
              "  "
            ]
          },
          "metadata": {},
          "execution_count": 410
        }
      ]
    },
    {
      "cell_type": "code",
      "source": [
        "# Relação entre classe de viagem e custo do ingresso\n",
        "sns.displot(data=data, x=\"Fare\", hue=\"Pclass\", kind=\"kde\", height=7, aspect=1.5)\n",
        "\n",
        "plt.show()\n",
        "# Percebemos que existem outliers, pois o gráfico está alcançando taxas altas"
      ],
      "metadata": {
        "colab": {
          "base_uri": "https://localhost:8080/",
          "height": 513
        },
        "id": "S_GsSrxxHzDp",
        "outputId": "6b592836-b414-44f9-955e-6e155a2a707b"
      },
      "execution_count": null,
      "outputs": [
        {
          "output_type": "display_data",
          "data": {
            "text/plain": [
              "<Figure size 798.375x504 with 1 Axes>"
            ],
            "image/png": "[encoded data removed]"
          },
          "metadata": {
            "needs_background": "light"
          }
        }
      ]
    },
    {
      "cell_type": "markdown",
      "source": [
        "## Remoção de outliers"
      ],
      "metadata": {
        "id": "_Q4cUc99Sys7"
      }
    },
    {
      "cell_type": "code",
      "source": [
        "# Apagando os outliers(taxas extremas)\n",
        "Q1 = data['Fare'].quantile(0.25)\n",
        "Q3 = data['Fare'].quantile(0.75)\n",
        "IQR = Q3 - Q1\n",
        "\n",
        "# Encontra os outliers\n",
        "print('Entrada média com outliers:', data['Fare'].mean())\n",
        "tamanho_antigo = len(data)\n",
        "data = data[(data['Fare'] <= Q3 + (IQR*4)) & (data['Fare'] >= Q1 - (IQR*4))] \n",
        "print('Quantidade de outliers removidos:', tamanho_antigo - len(data))\n",
        "print('Entrada média sem outliers:', data['Fare'].mean())"
      ],
      "metadata": {
        "colab": {
          "base_uri": "https://localhost:8080/"
        },
        "id": "4eVd9rcOLzLl",
        "outputId": "e8911c83-2cb3-4f51-93db-bcfd8592b904"
      },
      "execution_count": null,
      "outputs": [
        {
          "output_type": "stream",
          "name": "stdout",
          "text": [
            "Entrada média com outliers: 32.2042079685746\n",
            "Quantidade de outliers removidos: 38\n",
            "Entrada média sem outliers: 24.0037702227432\n"
          ]
        }
      ]
    },
    {
      "cell_type": "code",
      "source": [
        "sns.displot(data=data, x=\"Fare\", hue=\"Pclass\", kind=\"kde\", height=7, aspect=1.5)\n",
        "\n",
        "plt.show()\n",
        "# OBS: a remoção de outliers ocorreu após a imputação de dados pois ela não afeta muito a distribuição de idades"
      ],
      "metadata": {
        "colab": {
          "base_uri": "https://localhost:8080/",
          "height": 513
        },
        "id": "31dzolaUNRh4",
        "outputId": "c2f9bc64-dd35-4287-8b1a-f2fb7f3ceac5"
      },
      "execution_count": null,
      "outputs": [
        {
          "output_type": "display_data",
          "data": {
            "text/plain": [
              "<Figure size 798.375x504 with 1 Axes>"
            ],
            "image/png": "[encoded data removed]"
          },
          "metadata": {
            "needs_background": "light"
          }
        }
      ]
    },
    {
      "cell_type": "markdown",
      "source": [
        "## Convertendo todos os dados em quantitativos"
      ],
      "metadata": {
        "id": "26P0uxi5TNhK"
      }
    },
    {
      "cell_type": "code",
      "source": [
        "# Pclass é numérico, mas ele representa uma hierarquia. Precisamos passá-lo para o get dummies\n",
        "data['Pclass'] = data['Pclass'].apply(str)\n",
        "test_data['Pclass'] = test_data['Pclass'].apply(str)"
      ],
      "metadata": {
        "id": "wiDQcplHlrlM"
      },
      "execution_count": null,
      "outputs": []
    },
    {
      "cell_type": "code",
      "source": [
        "test_data.columns"
      ],
      "metadata": {
        "colab": {
          "base_uri": "https://localhost:8080/"
        },
        "id": "HXOA6vIi3R-b",
        "outputId": "17a980b7-717c-4cc8-99f8-ba6aad5de65a"
      },
      "execution_count": null,
      "outputs": [
        {
          "output_type": "execute_result",
          "data": {
            "text/plain": [
              "Index(['PassengerId', 'Pclass', 'Sex', 'Age', 'SibSp', 'Parch', 'Fare',\n",
              "       'Embarked', 'Pronome'],\n",
              "      dtype='object')"
            ]
          },
          "metadata": {},
          "execution_count": 415
        }
      ]
    },
    {
      "cell_type": "code",
      "source": [
        "# A coluna pronome acabou se mostrando inconsistente no get dummies, pois os dados base não necessariamente possuem todos os pronomes dos\n",
        "# dados da submissão, fazendo com que o número de colunas seja diferente\n",
        "# Dessa forma, a coluna de pronome será desconsiderada\n",
        "data = data.drop(columns='Pronome')\n",
        "test_data = test_data.drop(columns='Pronome')\n",
        "\n",
        "# Aplica o get dummies nas demais colunas categóricas\n",
        "data = pd.get_dummies(data, prefix=['Pclass', 'Embarked'])\n",
        "test_data = pd.get_dummies(test_data, prefix=['Pclass', 'Embarked'])"
      ],
      "metadata": {
        "id": "LN2FkVE2UiAw"
      },
      "execution_count": null,
      "outputs": []
    },
    {
      "cell_type": "code",
      "source": [
        "# Disposição dos dados atualmente:\n",
        "data.shape"
      ],
      "metadata": {
        "colab": {
          "base_uri": "https://localhost:8080/"
        },
        "id": "aETObpV4S2FA",
        "outputId": "601461e7-eb4d-4a82-b1e9-f389fdee4d04"
      },
      "execution_count": null,
      "outputs": [
        {
          "output_type": "execute_result",
          "data": {
            "text/plain": [
              "(853, 13)"
            ]
          },
          "metadata": {},
          "execution_count": 417
        }
      ]
    },
    {
      "cell_type": "code",
      "source": [
        "data.head()"
      ],
      "metadata": {
        "colab": {
          "base_uri": "https://localhost:8080/",
          "height": 206
        },
        "id": "SzIaH_TZS7Nx",
        "outputId": "1822394d-f153-456f-b7a3-a102ec1d87b0"
      },
      "execution_count": null,
      "outputs": [
        {
          "output_type": "execute_result",
          "data": {
            "text/plain": [
              "   PassengerId  Survived  Sex   Age  SibSp  Parch     Fare  Pclass_1  \\\n",
              "0            1         0    0  22.0      1      0   7.2500         0   \n",
              "1            2         1    1  38.0      1      0  71.2833         1   \n",
              "2            3         1    1  26.0      0      0   7.9250         0   \n",
              "3            4         1    1  35.0      1      0  53.1000         1   \n",
              "4            5         0    0  35.0      0      0   8.0500         0   \n",
              "\n",
              "   Pclass_2  Pclass_3  Embarked_C  Embarked_Q  Embarked_S  \n",
              "0         0         1           0           0           1  \n",
              "1         0         0           1           0           0  \n",
              "2         0         1           0           0           1  \n",
              "3         0         0           0           0           1  \n",
              "4         0         1           0           0           1  "
            ],
            "text/html": [
              "\n",
              "  <div id=\"df-7b207db5-c7a5-4f1c-909c-e2c8a6cc6334\">\n",
              "    <div class=\"colab-df-container\">\n",
              "      <div>\n",
              "<style scoped>\n",
              "    .dataframe tbody tr th:only-of-type {\n",
              "        vertical-align: middle;\n",
              "    }\n",
              "\n",
              "    .dataframe tbody tr th {\n",
              "        vertical-align: top;\n",
              "    }\n",
              "\n",
              "    .dataframe thead th {\n",
              "        text-align: right;\n",
              "    }\n",
              "</style>\n",
              "<table border=\"1\" class=\"dataframe\">\n",
              "  <thead>\n",
              "    <tr style=\"text-align: right;\">\n",
              "      <th></th>\n",
              "      <th>PassengerId</th>\n",
              "      <th>Survived</th>\n",
              "      <th>Sex</th>\n",
              "      <th>Age</th>\n",
              "      <th>SibSp</th>\n",
              "      <th>Parch</th>\n",
              "      <th>Fare</th>\n",
              "      <th>Pclass_1</th>\n",
              "      <th>Pclass_2</th>\n",
              "      <th>Pclass_3</th>\n",
              "      <th>Embarked_C</th>\n",
              "      <th>Embarked_Q</th>\n",
              "      <th>Embarked_S</th>\n",
              "    </tr>\n",
              "  </thead>\n",
              "  <tbody>\n",
              "    <tr>\n",
              "      <th>0</th>\n",
              "      <td>1</td>\n",
              "      <td>0</td>\n",
              "      <td>0</td>\n",
              "      <td>22.0</td>\n",
              "      <td>1</td>\n",
              "      <td>0</td>\n",
              "      <td>7.2500</td>\n",
              "      <td>0</td>\n",
              "      <td>0</td>\n",
              "      <td>1</td>\n",
              "      <td>0</td>\n",
              "      <td>0</td>\n",
              "      <td>1</td>\n",
              "    </tr>\n",
              "    <tr>\n",
              "      <th>1</th>\n",
              "      <td>2</td>\n",
              "      <td>1</td>\n",
              "      <td>1</td>\n",
              "      <td>38.0</td>\n",
              "      <td>1</td>\n",
              "      <td>0</td>\n",
              "      <td>71.2833</td>\n",
              "      <td>1</td>\n",
              "      <td>0</td>\n",
              "      <td>0</td>\n",
              "      <td>1</td>\n",
              "      <td>0</td>\n",
              "      <td>0</td>\n",
              "    </tr>\n",
              "    <tr>\n",
              "      <th>2</th>\n",
              "      <td>3</td>\n",
              "      <td>1</td>\n",
              "      <td>1</td>\n",
              "      <td>26.0</td>\n",
              "      <td>0</td>\n",
              "      <td>0</td>\n",
              "      <td>7.9250</td>\n",
              "      <td>0</td>\n",
              "      <td>0</td>\n",
              "      <td>1</td>\n",
              "      <td>0</td>\n",
              "      <td>0</td>\n",
              "      <td>1</td>\n",
              "    </tr>\n",
              "    <tr>\n",
              "      <th>3</th>\n",
              "      <td>4</td>\n",
              "      <td>1</td>\n",
              "      <td>1</td>\n",
              "      <td>35.0</td>\n",
              "      <td>1</td>\n",
              "      <td>0</td>\n",
              "      <td>53.1000</td>\n",
              "      <td>1</td>\n",
              "      <td>0</td>\n",
              "      <td>0</td>\n",
              "      <td>0</td>\n",
              "      <td>0</td>\n",
              "      <td>1</td>\n",
              "    </tr>\n",
              "    <tr>\n",
              "      <th>4</th>\n",
              "      <td>5</td>\n",
              "      <td>0</td>\n",
              "      <td>0</td>\n",
              "      <td>35.0</td>\n",
              "      <td>0</td>\n",
              "      <td>0</td>\n",
              "      <td>8.0500</td>\n",
              "      <td>0</td>\n",
              "      <td>0</td>\n",
              "      <td>1</td>\n",
              "      <td>0</td>\n",
              "      <td>0</td>\n",
              "      <td>1</td>\n",
              "    </tr>\n",
              "  </tbody>\n",
              "</table>\n",
              "</div>\n",
              "      <button class=\"colab-df-convert\" onclick=\"convertToInteractive('df-7b207db5-c7a5-4f1c-909c-e2c8a6cc6334')\"\n",
              "              title=\"Convert this dataframe to an interactive table.\"\n",
              "              style=\"display:none;\">\n",
              "        \n",
              "  <svg xmlns=\"http://www.w3.org/2000/svg\" height=\"24px\"viewBox=\"0 0 24 24\"\n",
              "       width=\"24px\">\n",
              "    <path d=\"M0 0h24v24H0V0z\" fill=\"none\"/>\n",
              "    <path d=\"M18.56 5.44l.94 2.06.94-2.06 2.06-.94-2.06-.94-.94-2.06-.94 2.06-2.06.94zm-11 1L8.5 8.5l.94-2.06 2.06-.94-2.06-.94L8.5 2.5l-.94 2.06-2.06.94zm10 10l.94 2.06.94-2.06 2.06-.94-2.06-.94-.94-2.06-.94 2.06-2.06.94z\"/><path d=\"M17.41 7.96l-1.37-1.37c-.4-.4-.92-.59-1.43-.59-.52 0-1.04.2-1.43.59L10.3 9.45l-7.72 7.72c-.78.78-.78 2.05 0 2.83L4 21.41c.39.39.9.59 1.41.59.51 0 1.02-.2 1.41-.59l7.78-7.78 2.81-2.81c.8-.78.8-2.07 0-2.86zM5.41 20L4 18.59l7.72-7.72 1.47 1.35L5.41 20z\"/>\n",
              "  </svg>\n",
              "      </button>\n",
              "      \n",
              "  <style>\n",
              "    .colab-df-container {\n",
              "      display:flex;\n",
              "      flex-wrap:wrap;\n",
              "      gap: 12px;\n",
              "    }\n",
              "\n",
              "    .colab-df-convert {\n",
              "      background-color: #E8F0FE;\n",
              "      border: none;\n",
              "      border-radius: 50%;\n",
              "      cursor: pointer;\n",
              "      display: none;\n",
              "      fill: #1967D2;\n",
              "      height: 32px;\n",
              "      padding: 0 0 0 0;\n",
              "      width: 32px;\n",
              "    }\n",
              "\n",
              "    .colab-df-convert:hover {\n",
              "      background-color: #E2EBFA;\n",
              "      box-shadow: 0px 1px 2px rgba(60, 64, 67, 0.3), 0px 1px 3px 1px rgba(60, 64, 67, 0.15);\n",
              "      fill: #174EA6;\n",
              "    }\n",
              "\n",
              "    [theme=dark] .colab-df-convert {\n",
              "      background-color: #3B4455;\n",
              "      fill: #D2E3FC;\n",
              "    }\n",
              "\n",
              "    [theme=dark] .colab-df-convert:hover {\n",
              "      background-color: #434B5C;\n",
              "      box-shadow: 0px 1px 3px 1px rgba(0, 0, 0, 0.15);\n",
              "      filter: drop-shadow(0px 1px 2px rgba(0, 0, 0, 0.3));\n",
              "      fill: #FFFFFF;\n",
              "    }\n",
              "  </style>\n",
              "\n",
              "      <script>\n",
              "        const buttonEl =\n",
              "          document.querySelector('#df-7b207db5-c7a5-4f1c-909c-e2c8a6cc6334 button.colab-df-convert');\n",
              "        buttonEl.style.display =\n",
              "          google.colab.kernel.accessAllowed ? 'block' : 'none';\n",
              "\n",
              "        async function convertToInteractive(key) {\n",
              "          const element = document.querySelector('#df-7b207db5-c7a5-4f1c-909c-e2c8a6cc6334');\n",
              "          const dataTable =\n",
              "            await google.colab.kernel.invokeFunction('convertToInteractive',\n",
              "                                                     [key], {});\n",
              "          if (!dataTable) return;\n",
              "\n",
              "          const docLinkHtml = 'Like what you see? Visit the ' +\n",
              "            '<a target=\"_blank\" href=https://colab.research.google.com/notebooks/data_table.ipynb>data table notebook</a>'\n",
              "            + ' to learn more about interactive tables.';\n",
              "          element.innerHTML = '';\n",
              "          dataTable['output_type'] = 'display_data';\n",
              "          await google.colab.output.renderOutput(dataTable, element);\n",
              "          const docLink = document.createElement('div');\n",
              "          docLink.innerHTML = docLinkHtml;\n",
              "          element.appendChild(docLink);\n",
              "        }\n",
              "      </script>\n",
              "    </div>\n",
              "  </div>\n",
              "  "
            ]
          },
          "metadata": {},
          "execution_count": 418
        }
      ]
    },
    {
      "cell_type": "markdown",
      "source": [
        "# Aplicando o aprendizado de máquina"
      ],
      "metadata": {
        "id": "sVveT2meUstb"
      }
    },
    {
      "cell_type": "code",
      "source": [
        "# Separando dados de treino e de teste\n",
        "X = data.drop(columns=['Survived', 'PassengerId'])\n",
        "y = data['Survived']\n",
        "\n",
        "X_train, X_test, y_train, y_test = train_test_split(X, y, test_size=0.2, random_state=1)\n",
        "print(\"Tamanho treino:\", X_train.shape)\n",
        "print(\"Tamanho teste:\", X_test.shape)\n",
        "\n",
        "# Aplicando uma árvore de decisão inicial para entender a lógica mais simples de classificação\n",
        "clf = tree.DecisionTreeClassifier(max_depth=3)\n",
        "clf = clf.fit(X_train, y_train)\n",
        "acc = accuracy_score(y_test, clf.predict(X_test))\n",
        "print('Acuracia:', acc)\n",
        "\n",
        "print(X_train.columns)\n",
        "\n",
        "plt.figure(figsize=(15,10))\n",
        "tree.plot_tree(clf, filled=True) \n",
        "plt.show(True)"
      ],
      "metadata": {
        "colab": {
          "base_uri": "https://localhost:8080/",
          "height": 679
        },
        "id": "Fo-l408UUsZb",
        "outputId": "47314b57-0768-430f-c097-6bc84dfb1469"
      },
      "execution_count": null,
      "outputs": [
        {
          "output_type": "stream",
          "name": "stdout",
          "text": [
            "Tamanho treino: (682, 11)\n",
            "Tamanho teste: (171, 11)\n",
            "Acuracia: 0.8304093567251462\n",
            "Index(['Sex', 'Age', 'SibSp', 'Parch', 'Fare', 'Pclass_1', 'Pclass_2',\n",
            "       'Pclass_3', 'Embarked_C', 'Embarked_Q', 'Embarked_S'],\n",
            "      dtype='object')\n"
          ]
        },
        {
          "output_type": "display_data",
          "data": {
            "text/plain": [
              "<Figure size 1080x720 with 1 Axes>"
            ],
            "image/png": "[encoded data removed]"
          },
          "metadata": {
            "needs_background": "light"
          }
        }
      ]
    },
    {
      "cell_type": "code",
      "source": [
        "# Aplicação massiva de algoritmos para ver os que mais se destacam\n",
        "\n",
        "# Normalizando os dados para o knn e SVM\n",
        "y = data['Survived']\n",
        "min_max_scaler = preprocessing.MinMaxScaler()\n",
        "escalado = min_max_scaler.fit_transform(data.drop(columns=['Survived', 'PassengerId']).values)\n",
        "\n",
        "X_norm = pd.DataFrame(escalado)\n",
        "X = data.drop(columns=['Survived', 'PassengerId'])\n",
        "\n",
        "# Definição inicial da validação cruzada\n",
        "numeroFolds = 5\n",
        "kf = KFold(n_splits=numeroFolds, shuffle=True)\n",
        "\n",
        "# Calcula as scores dos algoritmos\n",
        "knn = KNeighborsClassifier(n_neighbors=1)\n",
        "scores = cross_val_score(knn, X_norm, y, cv=kf)\n",
        "print('Acurácia com 1 K-NN: %0.4f' % (scores.mean()))\n",
        "\n",
        "knn = KNeighborsClassifier(n_neighbors=3)\n",
        "scores = cross_val_score(knn, X_norm, y, cv=kf)\n",
        "print('Acurácia com 3 K-NN: %0.4f' % (scores.mean()))\n",
        "\n",
        "knn = KNeighborsClassifier(n_neighbors=5)\n",
        "scores = cross_val_score(knn, X_norm, y, cv=kf)\n",
        "print('Acurácia com 5 K-NN: %0.4f' % (scores.mean()))\n",
        "\n",
        "knn = KNeighborsClassifier(n_neighbors=7)\n",
        "scores = cross_val_score(knn, X_norm, y, cv=kf)\n",
        "print('Acurácia com 7 K-NN: %0.4f' % (scores.mean()))\n",
        "\n",
        "clf = tree.DecisionTreeClassifier(max_depth=3)\n",
        "scores = cross_val_score(clf, X, y, cv=kf)\n",
        "print('Acurácia para árvore com profundidade 3: %0.4f' % (scores.mean()))\n",
        "\n",
        "clf = tree.DecisionTreeClassifier(max_depth=4)\n",
        "scores = cross_val_score(clf, X, y, cv=kf)\n",
        "print('Acurácia para árvore com profundidade 4: %0.4f' % (scores.mean()))\n",
        "\n",
        "clf = tree.DecisionTreeClassifier(max_depth=5)\n",
        "scores = cross_val_score(clf, X, y, cv=kf)\n",
        "print('Acurácia para árvore com profundidade 5: %0.4f' % (scores.mean()))\n",
        "\n",
        "clf = RandomForestClassifier()\n",
        "scores = cross_val_score(clf, X, y, cv=kf)\n",
        "print('Acurácia Random Forest: %0.4f' % (scores.mean()))\n",
        "\n",
        "clf = XGBClassifier() # O XGBoost aparentou ser ligeiramente melhor\n",
        "scores = cross_val_score(clf, X, y, cv=kf)\n",
        "print('Acurácia XGBoost: %0.4f' % (scores.mean()))\n",
        "\n",
        "clf = SVC()\n",
        "scores = cross_val_score(clf, X_norm, y, cv=kf)\n",
        "print('Acurácia SVC: %0.4f' % (scores.mean()))\n",
        "\n",
        "clf = GaussianNB()\n",
        "scores = cross_val_score(clf, X, y, cv=kf)\n",
        "print('Acurácia Naive Bayes: %0.4f' % (scores.mean()))\n",
        "\n",
        "clf = AdaBoostClassifier()\n",
        "scores = cross_val_score(clf, X, y, cv=kf)\n",
        "print('Acurácia AdaBoost: %0.4f' % (scores.mean()))\n",
        "\n",
        "clf = LogisticRegression(max_iter=1000)\n",
        "scores = cross_val_score(clf, X, y, cv=kf)\n",
        "print('Acurácia RegLog até 1000 iter: %0.4f' % (scores.mean()))"
      ],
      "metadata": {
        "colab": {
          "base_uri": "https://localhost:8080/"
        },
        "id": "oYj1MwKesY9S",
        "outputId": "7f9effa0-0fae-4940-f584-8728436f5016"
      },
      "execution_count": null,
      "outputs": [
        {
          "output_type": "stream",
          "name": "stdout",
          "text": [
            "Acurácia com 1 K-NN: 0.7503\n",
            "Acurácia com 3 K-NN: 0.8008\n",
            "Acurácia com 5 K-NN: 0.8078\n",
            "Acurácia com 7 K-NN: 0.8078\n",
            "Acurácia para árvore com profundidade 3: 0.8136\n",
            "Acurácia para árvore com profundidade 4: 0.8077\n",
            "Acurácia para árvore com profundidade 5: 0.8112\n",
            "Acurácia Random Forest: 0.8125\n",
            "Acurácia XGBoost: 0.8160\n",
            "Acurácia SVC: 0.8100\n",
            "Acurácia Naive Bayes: 0.7620\n",
            "Acurácia AdaBoost: 0.8101\n",
            "Acurácia RegLog até 1000 iter: 0.8043\n"
          ]
        }
      ]
    },
    {
      "cell_type": "markdown",
      "source": [
        "## Ajustes finais no dataframe da submissão"
      ],
      "metadata": {
        "id": "pS1QQVWicYn4"
      }
    },
    {
      "cell_type": "code",
      "source": [
        "# Tratamento de nulos em teste\n",
        "for coluna in test_data:\n",
        "  print(coluna, test_data[coluna].isna().sum())"
      ],
      "metadata": {
        "colab": {
          "base_uri": "https://localhost:8080/"
        },
        "id": "Ujygbiwo85kH",
        "outputId": "5ad83cb1-1fe1-4f6c-eb3c-1998177c032b"
      },
      "execution_count": null,
      "outputs": [
        {
          "output_type": "stream",
          "name": "stdout",
          "text": [
            "PassengerId 0\n",
            "Sex 0\n",
            "Age 86\n",
            "SibSp 0\n",
            "Parch 0\n",
            "Fare 1\n",
            "Pclass_1 0\n",
            "Pclass_2 0\n",
            "Pclass_3 0\n",
            "Embarked_C 0\n",
            "Embarked_Q 0\n",
            "Embarked_S 0\n"
          ]
        }
      ]
    },
    {
      "cell_type": "code",
      "source": [
        "# 86 elementos nulos na coluna Age\n",
        "media = test_data.loc[test_data['Age'].notnull(), 'Age'].mean()\n",
        "print('Media da coluna Age:', media)\n",
        "test_data['Age'] = test_data['Age'].fillna(media)\n",
        "\n",
        "# 1 elemento nulo na coluna Fare\n",
        "media = test_data.loc[test_data['Fare'].notnull(), 'Fare'].mean()\n",
        "print('Media da coluna Fare:', media)\n",
        "test_data['Fare'] = test_data['Fare'].fillna(media)"
      ],
      "metadata": {
        "colab": {
          "base_uri": "https://localhost:8080/"
        },
        "id": "KPH_onbP66cy",
        "outputId": "5dd850a0-3454-4ede-a101-55b7a97caa51"
      },
      "execution_count": null,
      "outputs": [
        {
          "output_type": "stream",
          "name": "stdout",
          "text": [
            "Media da coluna Age: 30.272590361445783\n",
            "Media da coluna Fare: 35.6271884892086\n"
          ]
        }
      ]
    },
    {
      "cell_type": "code",
      "source": [
        "# Tratamento de nulos em teste\n",
        "for coluna in test_data:\n",
        "  print(coluna, test_data[coluna].isna().sum())"
      ],
      "metadata": {
        "colab": {
          "base_uri": "https://localhost:8080/"
        },
        "id": "BDNbITKlInqa",
        "outputId": "ae9a25bc-9f32-40fd-b91f-451835ef6874"
      },
      "execution_count": null,
      "outputs": [
        {
          "output_type": "stream",
          "name": "stdout",
          "text": [
            "PassengerId 0\n",
            "Sex 0\n",
            "Age 0\n",
            "SibSp 0\n",
            "Parch 0\n",
            "Fare 0\n",
            "Pclass_1 0\n",
            "Pclass_2 0\n",
            "Pclass_3 0\n",
            "Embarked_C 0\n",
            "Embarked_Q 0\n",
            "Embarked_S 0\n"
          ]
        }
      ]
    },
    {
      "cell_type": "code",
      "source": [
        "print(test_data.shape)\n",
        "test_data.head()"
      ],
      "metadata": {
        "colab": {
          "base_uri": "https://localhost:8080/",
          "height": 224
        },
        "id": "S2LymLuNcill",
        "outputId": "00e3d264-c109-4b82-aa25-f70e3fb5b4a1"
      },
      "execution_count": null,
      "outputs": [
        {
          "output_type": "stream",
          "name": "stdout",
          "text": [
            "(418, 12)\n"
          ]
        },
        {
          "output_type": "execute_result",
          "data": {
            "text/plain": [
              "   PassengerId  Sex   Age  SibSp  Parch     Fare  Pclass_1  Pclass_2  \\\n",
              "0          892    0  34.5      0      0   7.8292         0         0   \n",
              "1          893    1  47.0      1      0   7.0000         0         0   \n",
              "2          894    0  62.0      0      0   9.6875         0         1   \n",
              "3          895    0  27.0      0      0   8.6625         0         0   \n",
              "4          896    1  22.0      1      1  12.2875         0         0   \n",
              "\n",
              "   Pclass_3  Embarked_C  Embarked_Q  Embarked_S  \n",
              "0         1           0           1           0  \n",
              "1         1           0           0           1  \n",
              "2         0           0           1           0  \n",
              "3         1           0           0           1  \n",
              "4         1           0           0           1  "
            ],
            "text/html": [
              "\n",
              "  <div id=\"df-328d9e60-b37a-48e9-8b1c-c6b17949e106\">\n",
              "    <div class=\"colab-df-container\">\n",
              "      <div>\n",
              "<style scoped>\n",
              "    .dataframe tbody tr th:only-of-type {\n",
              "        vertical-align: middle;\n",
              "    }\n",
              "\n",
              "    .dataframe tbody tr th {\n",
              "        vertical-align: top;\n",
              "    }\n",
              "\n",
              "    .dataframe thead th {\n",
              "        text-align: right;\n",
              "    }\n",
              "</style>\n",
              "<table border=\"1\" class=\"dataframe\">\n",
              "  <thead>\n",
              "    <tr style=\"text-align: right;\">\n",
              "      <th></th>\n",
              "      <th>PassengerId</th>\n",
              "      <th>Sex</th>\n",
              "      <th>Age</th>\n",
              "      <th>SibSp</th>\n",
              "      <th>Parch</th>\n",
              "      <th>Fare</th>\n",
              "      <th>Pclass_1</th>\n",
              "      <th>Pclass_2</th>\n",
              "      <th>Pclass_3</th>\n",
              "      <th>Embarked_C</th>\n",
              "      <th>Embarked_Q</th>\n",
              "      <th>Embarked_S</th>\n",
              "    </tr>\n",
              "  </thead>\n",
              "  <tbody>\n",
              "    <tr>\n",
              "      <th>0</th>\n",
              "      <td>892</td>\n",
              "      <td>0</td>\n",
              "      <td>34.5</td>\n",
              "      <td>0</td>\n",
              "      <td>0</td>\n",
              "      <td>7.8292</td>\n",
              "      <td>0</td>\n",
              "      <td>0</td>\n",
              "      <td>1</td>\n",
              "      <td>0</td>\n",
              "      <td>1</td>\n",
              "      <td>0</td>\n",
              "    </tr>\n",
              "    <tr>\n",
              "      <th>1</th>\n",
              "      <td>893</td>\n",
              "      <td>1</td>\n",
              "      <td>47.0</td>\n",
              "      <td>1</td>\n",
              "      <td>0</td>\n",
              "      <td>7.0000</td>\n",
              "      <td>0</td>\n",
              "      <td>0</td>\n",
              "      <td>1</td>\n",
              "      <td>0</td>\n",
              "      <td>0</td>\n",
              "      <td>1</td>\n",
              "    </tr>\n",
              "    <tr>\n",
              "      <th>2</th>\n",
              "      <td>894</td>\n",
              "      <td>0</td>\n",
              "      <td>62.0</td>\n",
              "      <td>0</td>\n",
              "      <td>0</td>\n",
              "      <td>9.6875</td>\n",
              "      <td>0</td>\n",
              "      <td>1</td>\n",
              "      <td>0</td>\n",
              "      <td>0</td>\n",
              "      <td>1</td>\n",
              "      <td>0</td>\n",
              "    </tr>\n",
              "    <tr>\n",
              "      <th>3</th>\n",
              "      <td>895</td>\n",
              "      <td>0</td>\n",
              "      <td>27.0</td>\n",
              "      <td>0</td>\n",
              "      <td>0</td>\n",
              "      <td>8.6625</td>\n",
              "      <td>0</td>\n",
              "      <td>0</td>\n",
              "      <td>1</td>\n",
              "      <td>0</td>\n",
              "      <td>0</td>\n",
              "      <td>1</td>\n",
              "    </tr>\n",
              "    <tr>\n",
              "      <th>4</th>\n",
              "      <td>896</td>\n",
              "      <td>1</td>\n",
              "      <td>22.0</td>\n",
              "      <td>1</td>\n",
              "      <td>1</td>\n",
              "      <td>12.2875</td>\n",
              "      <td>0</td>\n",
              "      <td>0</td>\n",
              "      <td>1</td>\n",
              "      <td>0</td>\n",
              "      <td>0</td>\n",
              "      <td>1</td>\n",
              "    </tr>\n",
              "  </tbody>\n",
              "</table>\n",
              "</div>\n",
              "      <button class=\"colab-df-convert\" onclick=\"convertToInteractive('df-328d9e60-b37a-48e9-8b1c-c6b17949e106')\"\n",
              "              title=\"Convert this dataframe to an interactive table.\"\n",
              "              style=\"display:none;\">\n",
              "        \n",
              "  <svg xmlns=\"http://www.w3.org/2000/svg\" height=\"24px\"viewBox=\"0 0 24 24\"\n",
              "       width=\"24px\">\n",
              "    <path d=\"M0 0h24v24H0V0z\" fill=\"none\"/>\n",
              "    <path d=\"M18.56 5.44l.94 2.06.94-2.06 2.06-.94-2.06-.94-.94-2.06-.94 2.06-2.06.94zm-11 1L8.5 8.5l.94-2.06 2.06-.94-2.06-.94L8.5 2.5l-.94 2.06-2.06.94zm10 10l.94 2.06.94-2.06 2.06-.94-2.06-.94-.94-2.06-.94 2.06-2.06.94z\"/><path d=\"M17.41 7.96l-1.37-1.37c-.4-.4-.92-.59-1.43-.59-.52 0-1.04.2-1.43.59L10.3 9.45l-7.72 7.72c-.78.78-.78 2.05 0 2.83L4 21.41c.39.39.9.59 1.41.59.51 0 1.02-.2 1.41-.59l7.78-7.78 2.81-2.81c.8-.78.8-2.07 0-2.86zM5.41 20L4 18.59l7.72-7.72 1.47 1.35L5.41 20z\"/>\n",
              "  </svg>\n",
              "      </button>\n",
              "      \n",
              "  <style>\n",
              "    .colab-df-container {\n",
              "      display:flex;\n",
              "      flex-wrap:wrap;\n",
              "      gap: 12px;\n",
              "    }\n",
              "\n",
              "    .colab-df-convert {\n",
              "      background-color: #E8F0FE;\n",
              "      border: none;\n",
              "      border-radius: 50%;\n",
              "      cursor: pointer;\n",
              "      display: none;\n",
              "      fill: #1967D2;\n",
              "      height: 32px;\n",
              "      padding: 0 0 0 0;\n",
              "      width: 32px;\n",
              "    }\n",
              "\n",
              "    .colab-df-convert:hover {\n",
              "      background-color: #E2EBFA;\n",
              "      box-shadow: 0px 1px 2px rgba(60, 64, 67, 0.3), 0px 1px 3px 1px rgba(60, 64, 67, 0.15);\n",
              "      fill: #174EA6;\n",
              "    }\n",
              "\n",
              "    [theme=dark] .colab-df-convert {\n",
              "      background-color: #3B4455;\n",
              "      fill: #D2E3FC;\n",
              "    }\n",
              "\n",
              "    [theme=dark] .colab-df-convert:hover {\n",
              "      background-color: #434B5C;\n",
              "      box-shadow: 0px 1px 3px 1px rgba(0, 0, 0, 0.15);\n",
              "      filter: drop-shadow(0px 1px 2px rgba(0, 0, 0, 0.3));\n",
              "      fill: #FFFFFF;\n",
              "    }\n",
              "  </style>\n",
              "\n",
              "      <script>\n",
              "        const buttonEl =\n",
              "          document.querySelector('#df-328d9e60-b37a-48e9-8b1c-c6b17949e106 button.colab-df-convert');\n",
              "        buttonEl.style.display =\n",
              "          google.colab.kernel.accessAllowed ? 'block' : 'none';\n",
              "\n",
              "        async function convertToInteractive(key) {\n",
              "          const element = document.querySelector('#df-328d9e60-b37a-48e9-8b1c-c6b17949e106');\n",
              "          const dataTable =\n",
              "            await google.colab.kernel.invokeFunction('convertToInteractive',\n",
              "                                                     [key], {});\n",
              "          if (!dataTable) return;\n",
              "\n",
              "          const docLinkHtml = 'Like what you see? Visit the ' +\n",
              "            '<a target=\"_blank\" href=https://colab.research.google.com/notebooks/data_table.ipynb>data table notebook</a>'\n",
              "            + ' to learn more about interactive tables.';\n",
              "          element.innerHTML = '';\n",
              "          dataTable['output_type'] = 'display_data';\n",
              "          await google.colab.output.renderOutput(dataTable, element);\n",
              "          const docLink = document.createElement('div');\n",
              "          docLink.innerHTML = docLinkHtml;\n",
              "          element.appendChild(docLink);\n",
              "        }\n",
              "      </script>\n",
              "    </div>\n",
              "  </div>\n",
              "  "
            ]
          },
          "metadata": {},
          "execution_count": 424
        }
      ]
    },
    {
      "cell_type": "markdown",
      "source": [
        "## Aplicando o aprendizado nos dados de submissão"
      ],
      "metadata": {
        "id": "JUQs11bAcSLy"
      }
    },
    {
      "cell_type": "code",
      "source": [
        "# >>>>>>>>>> Dados de treino\n",
        "\n",
        "y_train = data['Survived']\n",
        "X_train = data.drop(columns=['Survived', 'PassengerId'])\n",
        "\n",
        "#min_max_scaler = preprocessing.MinMaxScaler()\n",
        "#escalado = min_max_scaler.fit_transform(data.drop(columns=['Survived', 'PassengerId']).values)\n",
        "#X_norm_train = pd.DataFrame(escalado)\n",
        "\n",
        "# >>>>>>>>>> Dados de teste\n",
        "\n",
        "X_test = test_data.drop(columns=['PassengerId'])\n",
        "\n",
        "#min_max_scaler = preprocessing.MinMaxScaler()\n",
        "#escalado = min_max_scaler.fit_transform(test_data.drop(columns=['PassengerId']).values)\n",
        "#X_norm_test = pd.DataFrame(escalado)\n",
        "\n",
        "# >>>>>>>>>> Aplicando o algoritmo\n",
        "clf = XGBClassifier() # Usaremos o XGBoost pois ele foi ligeiramente melhor\n",
        "clf = clf.fit(X_train, y_train)\n",
        "survived = pd.DataFrame(clf.predict(X_test))\n",
        "\n",
        "submission = pd.concat([test_data['PassengerId'], survived], axis=1)\n",
        "submission.columns = ['PassengerId', 'Survived']\n",
        "submission = submission.set_index('PassengerId')\n",
        "submission.to_csv('submission.csv')"
      ],
      "metadata": {
        "id": "0kdYc-aVz9Ss"
      },
      "execution_count": null,
      "outputs": []
    }
  ]
}